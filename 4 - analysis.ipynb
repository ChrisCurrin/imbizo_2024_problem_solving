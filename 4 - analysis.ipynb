{
 "cells": [
  {
   "cell_type": "markdown",
   "id": "f863c437-c8b3-48fd-b0e2-4981c1e736a8",
   "metadata": {
    "id": "BABSiFs91hLY",
    "slideshow": {
     "slide_type": "slide"
    }
   },
   "source": [
    "# Analysis\n"
   ]
  },
  {
   "cell_type": "markdown",
   "id": "10ea5ab6-0843-42a8-9af4-a8e23b861af1",
   "metadata": {
    "id": "RX-vtmE3Lmv0",
    "slideshow": {
     "slide_type": "subslide"
    }
   },
   "source": [
    "## Towards better data management and plotting: Pandas and Seaborn\n",
    "\n",
    "Pandas allows the creation of `DataFrames` that neatly capture multi-dimensional arrays that can be more easily understood and visualised.\n",
    "\n",
    "Seaborn neatly plots tidy (“long-form”) dataframes where each column is a variable and each row is an observation. [Tidy Data in Python](https://www.jeannicholashould.com/tidy-data-in-python.html).\n"
   ]
  },
  {
   "cell_type": "markdown",
   "id": "76c8bda0-480d-45f3-9763-ad79d47bc679",
   "metadata": {
    "id": "B_UhkcuQsO5K",
    "slideshow": {
     "slide_type": "fragment"
    }
   },
   "source": [
    "Pandas has some awesome ways to load data.\n",
    "\n",
    "E.g. read from an excel spreadsheet (can even reference an online document)\n",
    "\n",
    "[`df = pd.read_excel(...)`](https://pandas.pydata.org/pandas-docs/stable/reference/api/pandas.read_excel.html)\n",
    "\n",
    "E.g. save to a \"comma-separated value\" file\n",
    "\n",
    "[`df.to_csv(\"file name.csv\")`](https://dev.pandas.io/docs/user_guide/io.html#io-store-in-csv)\n"
   ]
  },
  {
   "cell_type": "code",
   "execution_count": null,
   "id": "12578379-f98f-4b4d-86ea-1f122d3efeec",
   "metadata": {
    "colab": {
     "background_save": true
    },
    "id": "kzsOHGff1fuf",
    "outputId": "27f8d3ab-8b31-4087-8c6f-86cb9b23d0fd",
    "slideshow": {
     "slide_type": "fragment"
    }
   },
   "outputs": [],
   "source": [
    "import numpy as np\n",
    "import matplotlib.pyplot as plt\n",
    "import seaborn as sns\n",
    "import pandas as pd\n",
    "\n",
    "# seaborn has some built-in datasets\n",
    "dots = sns.load_dataset(\"dots\")\n",
    "# display a pandas dataframe, loaded from data\n",
    "print(type(dots))\n",
    "dots"
   ]
  },
  {
   "cell_type": "markdown",
   "id": "672e8b98-d2d5-47c1-9a5d-61e57babde26",
   "metadata": {
    "id": "BscX0nrLDjX2",
    "slideshow": {
     "slide_type": "slide"
    }
   },
   "source": [
    "### Converting between long and wide data\n",
    "\n",
    "[Reshaping](https://pandas.pydata.org/pandas-docs/stable/user_guide/reshaping.html)\n"
   ]
  },
  {
   "cell_type": "markdown",
   "id": "b3d26fd7-cc3a-4593-a688-1868923717c6",
   "metadata": {
    "id": "YpvZT63xJp5J",
    "slideshow": {
     "slide_type": "fragment"
    }
   },
   "source": [
    "- to wide:\n",
    "\n",
    "  - [`pivot`](https://pandas.pydata.org/pandas-docs/stable/reference/api/pandas.DataFrame.pivot.html#pandas.DataFrame.pivot) or [`pivot_table`](https://pandas.pydata.org/pandas-docs/stable/reference/api/pandas.DataFrame.pivot_table.html#pandas.DataFrame.pivot_table)\n",
    "\n",
    "  <img src=\"https://pandas.pydata.org/pandas-docs/stable/_images/reshaping_pivot.png\" width=\"500px\">\n",
    "\n",
    "  - [`stack`](https://pandas.pydata.org/pandas-docs/stable/reference/api/pandas.DataFrame.unstack.html?highlight=unstack#pandas.DataFrame.stack)\n",
    "\n",
    "  <img src=\"https://pandas.pydata.org/pandas-docs/stable/_images/reshaping_stack.png\" width=\"500px\">\n",
    "\n",
    "- to long\n",
    "\n",
    "  - [`melt`](https://pandas.pydata.org/pandas-docs/stable/reference/api/pandas.DataFrame.melt.html#pandas.DataFrame.melt)\n",
    "\n",
    "  <img src=\"https://pandas.pydata.org/pandas-docs/stable/_images/reshaping_melt.png\" width=\"500px\">\n",
    "\n",
    "  - [`unstack`](https://pandas.pydata.org/pandas-docs/stable/reference/api/pandas.DataFrame.unstack.html?highlight=unstack#pandas.DataFrame.unstack)\n",
    "\n",
    "  <img src=\"https://pandas.pydata.org/pandas-docs/stable/_images/reshaping_unstack.png\" width=\"500px\">\n"
   ]
  },
  {
   "cell_type": "markdown",
   "id": "90b83129-4cc4-419e-bc32-24fa49b14373",
   "metadata": {
    "id": "8yR9-qLBIPCW",
    "slideshow": {
     "slide_type": "subslide"
    }
   },
   "source": [
    "#### Example\n"
   ]
  },
  {
   "cell_type": "code",
   "execution_count": null,
   "id": "6ea19a95-295d-4a79-bf9d-caf5c2025f1a",
   "metadata": {
    "colab": {
     "background_save": true
    },
    "id": "AtV5lSYAaRye",
    "outputId": "9857e811-5257-4e5d-e026-f0d8c1cb034d",
    "slideshow": {
     "slide_type": "fragment"
    }
   },
   "outputs": [],
   "source": [
    "wide_df = dots.pivot_table(\n",
    "    index=\"time\", columns=[\"align\", \"coherence\", \"choice\"], values=[\"firing_rate\"]\n",
    ")\n",
    "wide_df"
   ]
  },
  {
   "cell_type": "code",
   "execution_count": null,
   "id": "eece93c6-652c-4cac-a5a0-789e8c8e52c0",
   "metadata": {
    "colab": {
     "background_save": true
    },
    "id": "mcHRnetLFOi-",
    "outputId": "86e6de36-d2cc-4141-b9b2-3b53ac8f4ae8",
    "slideshow": {
     "slide_type": "fragment"
    }
   },
   "outputs": [],
   "source": [
    "# first make a copy so we can manipulate it before converting without affecting the original\n",
    "time_as_col = wide_df.copy()\n",
    "# make the index an explicit column (melt tends to ignore index)\n",
    "time_as_col[\"time\"] = time_as_col.index\n",
    "# reshape\n",
    "long_df = time_as_col.melt(id_vars=[\"time\"], value_name=\"firing rate\")\n",
    "# clean up by removing NaNs and removing the None column\n",
    "long_df = long_df.dropna().drop(columns=[None]).reset_index(drop=True)\n",
    "long_df"
   ]
  },
  {
   "cell_type": "markdown",
   "id": "07714fa8-70fd-421c-a17c-72f6f4316eed",
   "metadata": {
    "id": "_KPPX3i8K0KZ",
    "slideshow": {
     "slide_type": "slide"
    }
   },
   "source": [
    "### Plotting long and wide data\n"
   ]
  },
  {
   "cell_type": "markdown",
   "id": "d107386a-250d-49bf-b71d-605683f5dee7",
   "metadata": {
    "id": "CjhhUvzoK3R7",
    "slideshow": {
     "slide_type": "fragment"
    }
   },
   "source": [
    "##### Plot wide data using Pandas and Matplotlib\n"
   ]
  },
  {
   "cell_type": "code",
   "execution_count": null,
   "id": "af7ebd07-b640-434c-91ed-fd8fad078f0c",
   "metadata": {
    "colab": {
     "background_save": true
    },
    "id": "STDU-_rwLFqk",
    "outputId": "eb2249fb-691a-4923-baa3-80d015fe3e11",
    "slideshow": {
     "slide_type": "fragment"
    }
   },
   "outputs": [],
   "source": [
    "# simplest version (with 2 columns)\n",
    "fig, axs = plt.subplots(1, 2, sharey=True)\n",
    "for _ax, align in zip(axs, [\"dots\", \"sacc\"]):\n",
    "    dropped_df = wide_df[\"firing_rate\", align].dropna(how=\"all\")\n",
    "    style = [\"-\", \":\"] * int(dropped_df.columns.get_level_values(\"choice\").size / 2)\n",
    "    dropped_df.plot(style=style, ax=_ax, cmap=\"viridis\", legend=align == \"sacc\")\n",
    "    _ax\n",
    "\n",
    "# annotate\n",
    "axs[0].set_ylabel(\"firing_rate\")\n",
    "axs[1].legend(\n",
    "    title=axs[1].get_legend().get_title().get_text(),\n",
    "    frameon=False,\n",
    "    loc=\"upper left\",\n",
    "    bbox_to_anchor=(1, 1),\n",
    ")\n",
    "# clean up\n",
    "for _ax in axs:\n",
    "    for s, spine in _ax.spines.items():\n",
    "        if s == \"top\" or s == \"right\":\n",
    "            spine.set_visible(False)"
   ]
  },
  {
   "cell_type": "markdown",
   "id": "734dceaa-e861-481d-a701-25b3c6933b50",
   "metadata": {
    "id": "JTH0et0uNwWd",
    "slideshow": {
     "slide_type": "subslide"
    }
   },
   "source": [
    "more control over the plotting\n",
    "\n",
    "what we want is\n",
    "\n",
    "- each `align` to be on different axes\n",
    "- each ` choice` to be a different line width\n",
    "- each `coherence` to be a different colour\n",
    "\n",
    "we iterate over slices of the `pd.DataFrame` (where each slice is a `pd.Series` object with a flattened index (`name` in the for loop)\n",
    "\n",
    "`name=(<align>,<coherence>,<choice>)` and plot these slices.\n"
   ]
  },
  {
   "cell_type": "code",
   "execution_count": null,
   "id": "c5a0a305-c130-4e72-9b01-6057bab1c6ab",
   "metadata": {
    "colab": {
     "background_save": true
    },
    "id": "50wwpG-2goQE",
    "outputId": "1cce55b5-4c16-4282-cdbd-559f227c873d",
    "slideshow": {
     "slide_type": "fragment"
    }
   },
   "outputs": [],
   "source": [
    "import matplotlib\n",
    "from matplotlib import cm\n",
    "\n",
    "# Change ax to plot on by 'align'\n",
    "# Get all alignments (set is used to only have unique values)\n",
    "align = set(wide_df.columns.get_level_values(\"align\"))\n",
    "ncols = len(align)\n",
    "fig, axs = plt.subplots(1, ncols, sharey=True)\n",
    "# zip combines 2 iterables (like list or set) such that\n",
    "#   zip([a,b],[1,2]) == [(a,1),(b,2)]\n",
    "#   (zip returns anobject generator, but wrap list around it for above)\n",
    "# when we pass zip to dict, it converts the list of tuples () to key:value pairs\n",
    "align_to_ax = dict(zip(sorted(align), axs))\n",
    "\n",
    "# Change linewidth by 'choice' - `[::-1]` reverses a list\n",
    "choices = sorted(set(wide_df.columns.get_level_values(\"choice\")))[::-1]\n",
    "lw_min = 1\n",
    "lw_scale = 5\n",
    "choice_to_lw = dict(\n",
    "    zip(choices, np.arange(lw_min, len(choices) * lw_scale + lw_min, lw_scale))\n",
    ")\n",
    "\n",
    "# Change color by 'coherence'\n",
    "coherence = sorted(set(wide_df.columns.get_level_values(\"coherence\")))\n",
    "norm = matplotlib.colors.Normalize(vmin=min(coherence), vmax=max(coherence))\n",
    "# like list comphrehension, we an do dict comprehension\n",
    "coh_to_color = {coh: cm.magma_r(norm(coh)) for coh in coherence}\n",
    "\n",
    "# iterate over slices of the dataframe\n",
    "for name, series in wide_df[\"firing_rate\"].items():\n",
    "    # print(name)\n",
    "    series.dropna(how=\"all\").plot(\n",
    "        ax=align_to_ax[name[0]],\n",
    "        lw=float(choice_to_lw[name[2]]),\n",
    "        c=coh_to_color[name[1]],\n",
    "        legend=False,\n",
    "    )\n",
    "\n",
    "# annotate\n",
    "for align, _ax in align_to_ax.items():\n",
    "    _ax.set_title(f\"align = {align}\")\n",
    "axs[0].set_ylabel(\"firing_rate\")\n",
    "\n",
    "from matplotlib.lines import Line2D\n",
    "\n",
    "# create legend for choice - list of tuples (Line, label)\n",
    "leg_choice = [\n",
    "    (Line2D([], [], c=\"k\", lw=choice_to_lw[choice]), choice) for choice in choices\n",
    "][::-1]\n",
    "\n",
    "# *zip(*leg_choice) works by converting [(line1,label1), (line2, label2)] to\n",
    "#   [[line1, line2], [label1, label2]] - this is zip(*leg_choice)\n",
    "# legend expects the first argument to be lines and the 2nd labels, so we spread\n",
    "#   the list of 2 lists [[],[]] using the * operator to only have 2 lists [],[].\n",
    "leg = axs[1].legend(\n",
    "    *zip(*leg_choice),\n",
    "    title=\"choice\",\n",
    "    loc=\"lower left\",\n",
    "    bbox_to_anchor=(1, -0.1),\n",
    "    ncol=2,\n",
    "    frameon=False,\n",
    ")\n",
    "# use the existing dict, which can be problematic if ordering matters\n",
    "#   (see comment below)\n",
    "leg_coh = [(Line2D([], [], c=c), coh) for coh, c in coh_to_color.items()]\n",
    "# note that dicts are not guaranteed to be sorted\n",
    "# we can use something like `from collections import OrderedDict` and some\n",
    "#   settings to maintaing an ordering.\n",
    "# here we use an anonymous function on the leg_coh list\n",
    "leg_coh = sorted(leg_coh, key=lambda linelabel: (linelabel[1], linelabel[0]))\n",
    "# we lose the previous legend when we call legend() again\n",
    "axs[1].legend(\n",
    "    *zip(*leg_coh),\n",
    "    title=\"coherence\",\n",
    "    loc=\"upper left\",\n",
    "    bbox_to_anchor=(1, 1.1),\n",
    "    frameon=False,\n",
    ")\n",
    "# but we can have both by explicitly adding the object back\n",
    "axs[1].add_artist(leg)\n",
    "\n",
    "# clean up axes\n",
    "for _ax in axs:\n",
    "    for s, spine in _ax.spines.items():\n",
    "        if s == \"top\" or s == \"right\":\n",
    "            spine.set_visible(False)"
   ]
  },
  {
   "cell_type": "markdown",
   "id": "5b5b9eab-d358-4c5c-937a-0cfd1999e3e9",
   "metadata": {
    "id": "lfDI66y6Y_3N",
    "slideshow": {
     "slide_type": "subslide"
    }
   },
   "source": [
    "we learnt some **new** Python above\n"
   ]
  },
  {
   "cell_type": "markdown",
   "id": "922e90b7",
   "metadata": {
    "slideshow": {
     "slide_type": "fragment"
    }
   },
   "source": [
    "> `tuple` - an immutable iterable akin to a list\n",
    "> \\\n",
    ">  _immutable_ means you cannot change the data after you have created the object. You can reassign the name, though.\n",
    "> \\\n",
    ">  this will fail\n",
    "\n",
    "```python\n",
    "t = (1,5,10)\n",
    "t[0] = 2\n",
    "```\n",
    "\n",
    "hint: you can use tuples as default arguments in methods directly (instead of using `None` like with `list`s and `dict`s)\n",
    "\n",
    "---\n"
   ]
  },
  {
   "cell_type": "markdown",
   "id": "301cecf3",
   "metadata": {
    "slideshow": {
     "slide_type": "fragment"
    }
   },
   "source": [
    "> `set` - an iterable that will only have unique values (no duplicates)\n",
    "> \\\n",
    ">  sets are created with `set()` or `{}` and are **unsorted** but very fast - O(1) lookup\n",
    "> \\\n",
    ">  instead of `.append` you use `.add`\n",
    "> \\\n",
    "\n",
    "```python\n",
    "s = {1,10,10,100,100,100,1000,1000,1000,1000}\n",
    "print(s) # {1000, 1, 10, 100}\n",
    "```\n",
    "\n",
    "---\n"
   ]
  },
  {
   "cell_type": "markdown",
   "id": "f56c4c56",
   "metadata": {
    "slideshow": {
     "slide_type": "fragment"
    }
   },
   "source": [
    "> `zip` - combines multiple iterables (e.g. `list`, `array`, `set`, `tuple`, `str`)\n",
    "> \\\n",
    "\n",
    "```python\n",
    "chars = 'abcde'\n",
    "nums = range(1,10)\n",
    "zipped = zip(s, range(10))\n",
    "print(zipped)       # <zip object at 0x7ff505aabc88>\n",
    "print(list(zipped)) # [('a', 0), ('b', 1), ('c', 2), ('d', 3), ('e', 4)]\n",
    "print(*zipped)      # ('a', 0), ('b', 1), ('c', 2), ('d', 3), ('e', 4)\n",
    "```\n",
    "\n",
    "iterables are truncated to the shortest one\n"
   ]
  },
  {
   "cell_type": "markdown",
   "id": "190815a8",
   "metadata": {
    "slideshow": {
     "slide_type": "fragment"
    }
   },
   "source": [
    "---\n",
    "\n",
    "> `*` - spread operator\n",
    "> \\\n",
    ">  we have used `*` in methods as a **rest operator** to 'collect' other arguments (and `**` to collect other _keyword_ arguments).\n",
    "> \\\n",
    ">  here, the operator 'flattens' an iterable. This can be useful for passing to methods, for copying data, and can be combined with `zip` to adjust the format of 2 related lists.\n",
    "> \\\n",
    "\n",
    "```python\n",
    "unzipped = zip(*zipped) # unzip and get original 2 lists\n",
    "chars, nums, *rest = unzipped # note *rest is recent in Python\n",
    "print(f\"chars={chars}, nums={nums}, rest={rest}\")\n",
    "```\n",
    "\n",
    "---\n"
   ]
  },
  {
   "cell_type": "markdown",
   "id": "f73b6946",
   "metadata": {
    "slideshow": {
     "slide_type": "fragment"
    }
   },
   "source": [
    "> `lambda` - anonymous functions\n",
    "> \\\n",
    ">  when we're feeling lazy $^1$ and don't want to name a function explicitly to implement a \"simple\" expression. Actually it can be named, go figure 🤷‍♂️.\n",
    "> \\\n",
    "\n",
    "```python\n",
    "anon = lambda x: x*2\n",
    "for i in range(10):\n",
    "  print(f\"{i} - {anon(2):>2g\"})\n",
    "```\n",
    "\n",
    "we passed an annoymous function to the `sorted` function (as part of the `key` param) in order to sort by `tuple`'s 2nd value (index `1`). The `key` param expects a single arg so we access the 2nd value of the passed `tuple`. We (silently) return `(x[1],x[0])` but it would be sufficent in this case to just return `x[1]` because we don't care about additional sorting.\n",
    "\\\n",
    " [read more on sorting by value](https://stackoverflow.com/questions/613183/how-do-i-sort-a-dictionary-by-value)\n",
    "\n",
    "$1$ efficient\n"
   ]
  },
  {
   "cell_type": "markdown",
   "id": "0ac38d9f-8c10-4216-96f4-3c99a26c505b",
   "metadata": {
    "id": "eVC5T5GrlEbm",
    "slideshow": {
     "slide_type": "subslide"
    }
   },
   "source": [
    "#### Plot long data using Seaborn\n"
   ]
  },
  {
   "cell_type": "code",
   "execution_count": null,
   "id": "a19c1f37-bac9-4f06-95b1-49973985856a",
   "metadata": {
    "colab": {
     "background_save": true
    },
    "id": "TRRpvxnor2El",
    "outputId": "6bf944e4-c7a4-488a-d9da-21e498247338",
    "slideshow": {
     "slide_type": "fragment"
    }
   },
   "outputs": [],
   "source": [
    "# try changing style and context to see how it affects the plot\n",
    "sns.set(style=\"ticks\", context=\"talk\")\n",
    "\n",
    "# Define a palette to ensure that colors will be\n",
    "# shared across the facets\n",
    "palette = dict(zip(dots.coherence.unique(), sns.color_palette(\"rocket_r\", 6)))\n",
    "\n",
    "# Plot the lines on two facets\n",
    "sns.relplot(\n",
    "    x=\"time\",\n",
    "    y=\"firing_rate\",\n",
    "    hue=\"coherence\",\n",
    "    size=\"choice\",\n",
    "    col=\"align\",\n",
    "    size_order=[\"T1\", \"T2\"],\n",
    "    palette=palette,\n",
    "    height=5,\n",
    "    aspect=0.75,\n",
    "    facet_kws=dict(sharex=False),\n",
    "    kind=\"line\",\n",
    "    legend=\"full\",\n",
    "    data=dots,\n",
    ")"
   ]
  },
  {
   "cell_type": "markdown",
   "id": "e4340fc2-d948-47e2-b6fc-799b14ea9d67",
   "metadata": {
    "id": "twbhAnd3toQ3",
    "slideshow": {
     "slide_type": "slide"
    }
   },
   "source": [
    "## Analysing someone else's code\n"
   ]
  },
  {
   "cell_type": "markdown",
   "id": "082de5cf-a699-4f4e-a963-297ae51f3262",
   "metadata": {
    "id": "shnGsTGCX-oB",
    "slideshow": {
     "slide_type": "fragment"
    }
   },
   "source": [
    "- can you make sense of the code below?\n",
    "- what happens when you run it?\n",
    "- are there inconsistencies in the variable names, function calls, or comments?\n"
   ]
  },
  {
   "cell_type": "code",
   "execution_count": null,
   "id": "9ce415f9-356c-47dc-b067-b0a20d55ba26",
   "metadata": {
    "colab": {
     "background_save": true
    },
    "id": "IRRfpYiR4E0R",
    "outputId": "bb2db74f-a8ce-4f5b-f3e9-f41b6e0ba421",
    "slideshow": {
     "slide_type": "fragment"
    }
   },
   "outputs": [],
   "source": [
    "import matplotlib.pyplot as plt\n",
    "import numpy as np\n",
    "from numpy.random import uniform, gamma, seed\n",
    "from scipy.sparse import csr_matrix\n",
    "\n",
    "seed(86664)\n",
    "\n",
    "## Parameter values\n",
    "#   Time\n",
    "dt = 0.5  # ms\n",
    "timeEnd = 5000  # ms\n",
    "T = int(np.ceil(timeEnd / dt))  # Number of time_array points\n",
    "\n",
    "#   Neurons\n",
    "n = 1000\n",
    "inh_ratio = 0.2\n",
    "n_inh = int(n * inh_ratio)\n",
    "n_exc = int(n * (1 - inh_ratio))\n",
    "k_inh = np.append(np.ones(n_inh, dtype=\"bool\"), np.zeros(n_exc, dtype=\"bool\"))\n",
    "# uniform(size=n) < 0.2  # 20 % inhibitory\n",
    "k_exc = np.logical_not(k_inh)  # opposite -> could also use (k_inh == False)\n",
    "\n",
    "a = k_inh.choose([0.02, 0.1])  # inhibitory cells a=0.1, excitatory a=0.02\n",
    "b = 0.2\n",
    "c = -65\n",
    "d = k_inh.choose([8, 2])\n",
    "tau_s = 10  # decay of synapses (ms)\n",
    "tau_d = 500  # synaptic depression (ms)\n",
    "stp_u = 0.5  # STP parameter\n",
    "ErevExc = 0.0\n",
    "ErevInh = -75.0\n",
    "\n",
    "# Input\n",
    "Itime = np.array([100, timeEnd - 500]) / dt\n",
    "n_in = 100  # number of synaptic inputs\n",
    "w_in = 0.2\n",
    "pConnection = 0.01  # connection probability 'spontaneous activity'\n",
    "seed(int(pConnection * 100))\n",
    "C = uniform(size=(n, n_in)) < pConnection\n",
    "W_in = C.choose([0, w_in])\n",
    "f_rate = 0.010  # ms^-1)\n",
    "prate = f_rate * dt\n",
    "\n",
    "# Recurrent Input\n",
    "w_avg = 0.002  # average recurrent weight\n",
    "pConnectionRecurrent = 0.2  # connection probability\n",
    "W = np.zeros((n, n))\n",
    "C = uniform(size=(n, n))\n",
    "idx = np.nonzero(C < pConnectionRecurrent)\n",
    "g_sc = 0.002\n",
    "g_sh = w_avg / g_sc\n",
    "W[idx] = gamma(\n",
    "    g_sh, g_sc, size=idx[0].size\n",
    ")  # gamma distributed array (shape,scale,size)\n",
    "scaleEI = 2  # weights from I->E different\n",
    "W[np.ix_(k_exc, k_inh)] *= scaleEI\n",
    "W = csr_matrix(W)  # make row sparse\n",
    "\n",
    "## Memory\n",
    "time_array = np.arange(1, timeEnd + 1, dt)\n",
    "v = np.zeros((T, n))\n",
    "u = np.zeros((T, n))\n",
    "v[0] = -70  # resting potential\n",
    "# Leak channels\n",
    "EL = -70\n",
    "gL = 0.0001\n",
    "u[0] = -14  # steady state\n",
    "\n",
    "S_in = np.zeros(n_in)  # synaptic input from external source\n",
    "s = np.zeros(n)  # recurrent synapses\n",
    "E_in = np.zeros(n_in)\n",
    "H_in = np.ones(n_in)  # synaptic depression term\n",
    "H = np.ones(n)  # synaptic depression term\n",
    "prevSpike = -np.infty * np.ones(n_in)\n",
    "prevSpikeRec = -np.infty * np.ones(n)\n",
    "E = k_inh.choose([ErevExc, ErevInh])\n",
    "\n",
    "r = uniform(size=n_in)\n",
    "# v = (r<p).choose(b,a)\n",
    "\n",
    "for t in np.arange(T - 1):\n",
    "    if t * dt % 1000 == 0:\n",
    "        print(f\"{t * dt / 1000}  s simulated.\")\n",
    "    if Itime[0] < t < Itime[1]:\n",
    "        I = 0  # background current\n",
    "        # Get input spikes (each neuron receives ~10% of input spikes)\n",
    "        P = uniform(size=n_in) < prate  # background input\n",
    "        tmp = np.exp(dt * (prevSpike[P] - t) / tau_d)\n",
    "        H_in[P] = 1 - (1 + (stp_u - 1) * H_in[P]) * tmp\n",
    "        prevSpike[P] = t\n",
    "    else:\n",
    "        I = 2\n",
    "        P = 0\n",
    "\n",
    "    # Calculate input current (all excitatory input)\n",
    "    S_in = (1 - dt / tau_s) * S_in + P * H_in\n",
    "    I += W_in.dot(S_in * E_in) - (W_in.dot(S_in) * v[t])\n",
    "\n",
    "    # handle all neurons\n",
    "    fired = v[t] >= 35\n",
    "    tmp = np.exp(dt * (prevSpikeRec[fired] - t) / tau_d)\n",
    "    H[fired] = 1 - (1 + (stp_u - 1) * H[fired]) * tmp\n",
    "    prevSpikeRec[fired] = t\n",
    "\n",
    "    # recurrent input\n",
    "    s = (1 - dt / tau_s) * s + fired\n",
    "    Irec = W * s * (E - v[t])\n",
    "    I += Irec\n",
    "\n",
    "    # Update ODE\n",
    "    dv = (0.04 * v[t] + 5) * v[t] + 140 - u[t]\n",
    "    v[t + 1] = v[t] + (dv + I) * dt\n",
    "    du = a * (b * v[t] - u[t])\n",
    "    u[t + 1] = u[t] + du * dt\n",
    "    # Spike!\n",
    "    v[t][fired] = 35\n",
    "    v[t + 1][fired] = c\n",
    "    u[t + 1][fired] = u[t][fired] + d[fired]"
   ]
  },
  {
   "cell_type": "markdown",
   "id": "ee520849-b64e-4741-a307-0f14d5d958b3",
   "metadata": {
    "id": "M_a4l83iYdZq",
    "slideshow": {
     "slide_type": "slide"
    }
   },
   "source": [
    "#### Tasks\n"
   ]
  },
  {
   "cell_type": "markdown",
   "id": "60485a48-b7e3-4659-8c2b-84ed9ef57874",
   "metadata": {
    "id": "ukHE8H6mYhtZ"
   },
   "source": [
    "##### **Task 1**\n",
    "\n",
    "Write the system of equations that govern the neurons' behaviour\n",
    "\n",
    "Extra questions:\n",
    "\n",
    "- what does `np.ix_` do?\n",
    "- what does `csr_matrix` do? Is the comment useful?\n"
   ]
  },
  {
   "cell_type": "markdown",
   "id": "156c5042-c08a-4db0-8982-188cd8bb9c2b",
   "metadata": {
    "id": "b5DeUKIUY7Qr"
   },
   "source": [
    "**Space for solution**\n",
    "\n",
    "[EDIT ME]\n",
    "\n",
    "eq.1: $\\begin{align}\n",
    "\\frac{dv}{dt} = ... \\tag{neuronal voltage}\n",
    "\\end{align}$\n",
    "\n",
    "...\n"
   ]
  },
  {
   "cell_type": "markdown",
   "id": "1812d44c-a199-437f-ab52-6e76158fa5ae",
   "metadata": {
    "id": "4ypvA18bZqxp"
   },
   "source": [
    "##### **Task 2**: plotting\n",
    "\n",
    "1. plot the **membrane potential** over time for the excitatory \"pyramidal cell\" neurons (**PC**) in red and the inhibitory \"interneuron\" neurons (**IN**) in blue.\n",
    "1. use a **raster plot** to show the spikes times (x-axis) for each neuron (y-axis).\n",
    "\n",
    "![example](https://upload.wikimedia.org/wikipedia/en/5/58/Sample_raster_plot_from_Brian_neural_network_simulator.jpg)\n",
    "\n",
    "1. plot a **histogram** of firing rates for each population\n",
    "\n",
    "Extra questions:\n",
    "\n",
    "- are PCs always excitatory? If not, under what condition(s)?\n",
    "- are INs always inhibitory? If not, under what condition(s)?\n"
   ]
  },
  {
   "cell_type": "markdown",
   "id": "a70891c3-6fc0-4a7d-9a7b-d2fdb5878d26",
   "metadata": {
    "id": "wuV9TFmQg0kQ"
   },
   "source": [
    "##### **Task 3**: plotting with Seaborn\n",
    "\n",
    "1. create a _long form_ `DataFrame` with \"Neuron Index\" \"Time\" and \"Type\" columns (\"Time\" is the spike time) and each row is an observation.\n",
    "\n",
    "1. plot a raster plot\n",
    "\n",
    "1. plot a raster plot with _kernel density estimates_ (run, but don't look at, the solution to see what I mean)\n"
   ]
  },
  {
   "cell_type": "code",
   "execution_count": null,
   "id": "20985cad",
   "metadata": {},
   "outputs": [],
   "source": []
  }
 ],
 "metadata": {
  "kernelspec": {
   "display_name": "Python 3 (ipykernel)",
   "language": "python",
   "name": "python3"
  },
  "language_info": {
   "codemirror_mode": {
    "name": "ipython",
    "version": 3
   },
   "file_extension": ".py",
   "mimetype": "text/x-python",
   "name": "python",
   "nbconvert_exporter": "python",
   "pygments_lexer": "ipython3",
   "version": "3.11.2"
  }
 },
 "nbformat": 4,
 "nbformat_minor": 5
}
